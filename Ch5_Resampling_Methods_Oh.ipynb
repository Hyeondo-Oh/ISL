{
 "cells": [
  {
   "cell_type": "code",
   "execution_count": 1,
   "metadata": {},
   "outputs": [],
   "source": [
    "import pandas as pd\n",
    "import numpy as np\n",
    "import matplotlib.pyplot as plt\n",
    "import seaborn as sns\n",
    "\n",
    "%matplotlib inline"
   ]
  },
  {
   "cell_type": "code",
   "execution_count": 2,
   "metadata": {},
   "outputs": [],
   "source": [
    "Auto=pd.read_csv('C:/Users/Hyeondo/OneDrive - 연세대학교 (Yonsei University)/data/data_1/Auto.csv')"
   ]
  },
  {
   "cell_type": "code",
   "execution_count": 3,
   "metadata": {},
   "outputs": [
    {
     "name": "stdout",
     "output_type": "stream",
     "text": [
      "<class 'pandas.core.frame.DataFrame'>\n",
      "RangeIndex: 392 entries, 1 to 392\n",
      "Data columns (total 9 columns):\n",
      " #   Column        Non-Null Count  Dtype  \n",
      "---  ------        --------------  -----  \n",
      " 0   mpg           392 non-null    float64\n",
      " 1   cylinders     392 non-null    int64  \n",
      " 2   displacement  392 non-null    float64\n",
      " 3   horsepower    392 non-null    float64\n",
      " 4   weight        392 non-null    int64  \n",
      " 5   acceleration  392 non-null    float64\n",
      " 6   year          392 non-null    int64  \n",
      " 7   origin        392 non-null    int64  \n",
      " 8   name          392 non-null    object \n",
      "dtypes: float64(4), int64(4), object(1)\n",
      "memory usage: 27.7+ KB\n"
     ]
    }
   ],
   "source": [
    "rows_select = Auto.horsepower.apply(lambda x: x.isnumeric())\n",
    "Auto= Auto.loc[rows_select, :]\n",
    "Auto.horsepower = np.float64(Auto.horsepower)    \n",
    "Auto.index = range(1, len(Auto)+1)\n",
    "Auto.info()"
   ]
  },
  {
   "cell_type": "code",
   "execution_count": 4,
   "metadata": {},
   "outputs": [
    {
     "data": {
      "text/html": [
       "<div>\n",
       "<style scoped>\n",
       "    .dataframe tbody tr th:only-of-type {\n",
       "        vertical-align: middle;\n",
       "    }\n",
       "\n",
       "    .dataframe tbody tr th {\n",
       "        vertical-align: top;\n",
       "    }\n",
       "\n",
       "    .dataframe thead th {\n",
       "        text-align: right;\n",
       "    }\n",
       "</style>\n",
       "<table border=\"1\" class=\"dataframe\">\n",
       "  <thead>\n",
       "    <tr style=\"text-align: right;\">\n",
       "      <th></th>\n",
       "      <th>mpg</th>\n",
       "      <th>cylinders</th>\n",
       "      <th>displacement</th>\n",
       "      <th>horsepower</th>\n",
       "      <th>weight</th>\n",
       "      <th>acceleration</th>\n",
       "      <th>year</th>\n",
       "      <th>origin</th>\n",
       "      <th>name</th>\n",
       "    </tr>\n",
       "  </thead>\n",
       "  <tbody>\n",
       "    <tr>\n",
       "      <th>388</th>\n",
       "      <td>27.0</td>\n",
       "      <td>4</td>\n",
       "      <td>140.0</td>\n",
       "      <td>86.0</td>\n",
       "      <td>2790</td>\n",
       "      <td>15.6</td>\n",
       "      <td>82</td>\n",
       "      <td>1</td>\n",
       "      <td>ford mustang gl</td>\n",
       "    </tr>\n",
       "    <tr>\n",
       "      <th>389</th>\n",
       "      <td>44.0</td>\n",
       "      <td>4</td>\n",
       "      <td>97.0</td>\n",
       "      <td>52.0</td>\n",
       "      <td>2130</td>\n",
       "      <td>24.6</td>\n",
       "      <td>82</td>\n",
       "      <td>2</td>\n",
       "      <td>vw pickup</td>\n",
       "    </tr>\n",
       "    <tr>\n",
       "      <th>390</th>\n",
       "      <td>32.0</td>\n",
       "      <td>4</td>\n",
       "      <td>135.0</td>\n",
       "      <td>84.0</td>\n",
       "      <td>2295</td>\n",
       "      <td>11.6</td>\n",
       "      <td>82</td>\n",
       "      <td>1</td>\n",
       "      <td>dodge rampage</td>\n",
       "    </tr>\n",
       "    <tr>\n",
       "      <th>391</th>\n",
       "      <td>28.0</td>\n",
       "      <td>4</td>\n",
       "      <td>120.0</td>\n",
       "      <td>79.0</td>\n",
       "      <td>2625</td>\n",
       "      <td>18.6</td>\n",
       "      <td>82</td>\n",
       "      <td>1</td>\n",
       "      <td>ford ranger</td>\n",
       "    </tr>\n",
       "    <tr>\n",
       "      <th>392</th>\n",
       "      <td>31.0</td>\n",
       "      <td>4</td>\n",
       "      <td>119.0</td>\n",
       "      <td>82.0</td>\n",
       "      <td>2720</td>\n",
       "      <td>19.4</td>\n",
       "      <td>82</td>\n",
       "      <td>1</td>\n",
       "      <td>chevy s-10</td>\n",
       "    </tr>\n",
       "  </tbody>\n",
       "</table>\n",
       "</div>"
      ],
      "text/plain": [
       "      mpg  cylinders  displacement  horsepower  weight  acceleration  year  \\\n",
       "388  27.0          4         140.0        86.0    2790          15.6    82   \n",
       "389  44.0          4          97.0        52.0    2130          24.6    82   \n",
       "390  32.0          4         135.0        84.0    2295          11.6    82   \n",
       "391  28.0          4         120.0        79.0    2625          18.6    82   \n",
       "392  31.0          4         119.0        82.0    2720          19.4    82   \n",
       "\n",
       "     origin             name  \n",
       "388       1  ford mustang gl  \n",
       "389       2        vw pickup  \n",
       "390       1    dodge rampage  \n",
       "391       1      ford ranger  \n",
       "392       1       chevy s-10  "
      ]
     },
     "execution_count": 4,
     "metadata": {},
     "output_type": "execute_result"
    }
   ],
   "source": [
    "Auto.tail()"
   ]
  },
  {
   "cell_type": "code",
   "execution_count": 5,
   "metadata": {},
   "outputs": [],
   "source": [
    "#train_test_split\n",
    "\n",
    "from sklearn.model_selection import train_test_split, LeaveOneOut\n",
    "X=Auto.horsepower.values.reshape(-1,1)\n",
    "y=Auto.mpg\n",
    "X_train,X_test,y_train,y_test=train_test_split(X,y,test_size=0.5,random_state=1)"
   ]
  },
  {
   "cell_type": "code",
   "execution_count": 6,
   "metadata": {},
   "outputs": [
    {
     "name": "stdout",
     "output_type": "stream",
     "text": [
      "The MAE is: 3.9\n",
      "The MSE is: 24.8\n",
      "The RMSE is: 4.98\n"
     ]
    }
   ],
   "source": [
    "from sklearn.linear_model import LinearRegression\n",
    "lr_model = LinearRegression()\n",
    "lr_model.fit(X_train, y_train)\n",
    "y_pred = lr_model.predict(X_test)\n",
    "\n",
    "from sklearn import metrics\n",
    "print (\"The MAE is: {:.3}\".format( metrics.mean_absolute_error(y_test, y_pred)))\n",
    "print (\"The MSE is: {:.3}\".format( metrics.mean_squared_error(y_test, y_pred)))\n",
    "print (\"The RMSE is: {:.3}\".format( np.sqrt( metrics.mean_squared_error(y_test, y_pred))))"
   ]
  },
  {
   "cell_type": "code",
   "execution_count": 7,
   "metadata": {},
   "outputs": [
    {
     "data": {
      "text/html": [
       "<div>\n",
       "<style scoped>\n",
       "    .dataframe tbody tr th:only-of-type {\n",
       "        vertical-align: middle;\n",
       "    }\n",
       "\n",
       "    .dataframe tbody tr th {\n",
       "        vertical-align: top;\n",
       "    }\n",
       "\n",
       "    .dataframe thead th {\n",
       "        text-align: right;\n",
       "    }\n",
       "</style>\n",
       "<table border=\"1\" class=\"dataframe\">\n",
       "  <thead>\n",
       "    <tr style=\"text-align: right;\">\n",
       "      <th></th>\n",
       "      <th>horsepower</th>\n",
       "      <th>hp_squared</th>\n",
       "      <th>hp_cubed</th>\n",
       "    </tr>\n",
       "  </thead>\n",
       "  <tbody>\n",
       "    <tr>\n",
       "      <th>1</th>\n",
       "      <td>130.0</td>\n",
       "      <td>16900.0</td>\n",
       "      <td>2197000.0</td>\n",
       "    </tr>\n",
       "    <tr>\n",
       "      <th>2</th>\n",
       "      <td>165.0</td>\n",
       "      <td>27225.0</td>\n",
       "      <td>4492125.0</td>\n",
       "    </tr>\n",
       "    <tr>\n",
       "      <th>3</th>\n",
       "      <td>150.0</td>\n",
       "      <td>22500.0</td>\n",
       "      <td>3375000.0</td>\n",
       "    </tr>\n",
       "    <tr>\n",
       "      <th>4</th>\n",
       "      <td>150.0</td>\n",
       "      <td>22500.0</td>\n",
       "      <td>3375000.0</td>\n",
       "    </tr>\n",
       "    <tr>\n",
       "      <th>5</th>\n",
       "      <td>140.0</td>\n",
       "      <td>19600.0</td>\n",
       "      <td>2744000.0</td>\n",
       "    </tr>\n",
       "  </tbody>\n",
       "</table>\n",
       "</div>"
      ],
      "text/plain": [
       "   horsepower  hp_squared   hp_cubed\n",
       "1       130.0     16900.0  2197000.0\n",
       "2       165.0     27225.0  4492125.0\n",
       "3       150.0     22500.0  3375000.0\n",
       "4       150.0     22500.0  3375000.0\n",
       "5       140.0     19600.0  2744000.0"
      ]
     },
     "execution_count": 7,
     "metadata": {},
     "output_type": "execute_result"
    }
   ],
   "source": [
    "X_poly = pd.concat([Auto.horsepower, np.power(Auto.horsepower, 2), np.power(Auto.horsepower, 3)], axis=1)\n",
    "X_poly.columns = ['horsepower', 'hp_squared', 'hp_cubed']\n",
    "X_poly.head()"
   ]
  },
  {
   "cell_type": "code",
   "execution_count": 8,
   "metadata": {},
   "outputs": [
    {
     "name": "stdout",
     "output_type": "stream",
     "text": [
      "The MAE is: 3.244\n",
      "The MSE is: 18.85\n",
      "The RMSE is: 4.341\n"
     ]
    }
   ],
   "source": [
    "# Quadratic Regression\n",
    "X_2 = X_poly.loc[:, ['horsepower', 'hp_squared']]\n",
    "y = Auto.mpg\n",
    "X_train, X_test, y_train, y_test = train_test_split(X_2, y, test_size=0.5, random_state=1)\n",
    "lr_model = LinearRegression()\n",
    "lr_model.fit(X_train, y_train)\n",
    "y_pred = lr_model.predict(X_test)\n",
    "print (\"The MAE is: {:.4}\".format( metrics.mean_absolute_error(y_test, y_pred) )  )  # (True, Predict) 순서  \n",
    "print (\"The MSE is: {:.4}\".format( metrics.mean_squared_error(y_test, y_pred) )  )\n",
    "print (\"The RMSE is: {:.4}\".format( np.sqrt( metrics.mean_squared_error(y_test, y_pred))))"
   ]
  },
  {
   "cell_type": "code",
   "execution_count": 9,
   "metadata": {},
   "outputs": [
    {
     "name": "stdout",
     "output_type": "stream",
     "text": [
      "The MAE is: 3.245\n",
      "The MSE is: 18.81\n",
      "The RMSE is: 4.336\n"
     ]
    }
   ],
   "source": [
    "# Cubic regression\n",
    "X_3 = X_poly.loc[:, ['horsepower', 'hp_squared', 'hp_cubed']]\n",
    "y = Auto.mpg\n",
    "X_train, X_test, y_train, y_test = train_test_split(X_3, y, test_size=0.5, random_state=1)\n",
    "lr_model = LinearRegression()\n",
    "lr_model.fit(X_train, y_train)\n",
    "y_pred = lr_model.predict(X_test)\n",
    "print (\"The MAE is: {:.4}\".format( metrics.mean_absolute_error(y_test, y_pred) )  )  # (True, Predict) 순서  \n",
    "print (\"The MSE is: {:.4}\".format( metrics.mean_squared_error(y_test, y_pred) )  )\n",
    "print (\"The RMSE is: {:.4}\".format( np.sqrt( metrics.mean_squared_error(y_test, y_pred))))"
   ]
  },
  {
   "cell_type": "code",
   "execution_count": 10,
   "metadata": {},
   "outputs": [
    {
     "name": "stdout",
     "output_type": "stream",
     "text": [
      "\n",
      "random_seed=1\n",
      "Index(['horsepower'], dtype='object'):The MSE is 24.8\n",
      "Index(['horsepower', 'hp_squared'], dtype='object'):The MSE is 18.85\n",
      "Index(['horsepower', 'hp_squared', 'hp_cubed'], dtype='object'):The MSE is 18.81\n",
      "\n",
      "random_seed=5\n",
      "Index(['horsepower'], dtype='object'):The MSE is 29.59\n",
      "Index(['horsepower', 'hp_squared'], dtype='object'):The MSE is 24.15\n",
      "Index(['horsepower', 'hp_squared', 'hp_cubed'], dtype='object'):The MSE is 24.1\n",
      "\n",
      "random_seed=1234\n",
      "Index(['horsepower'], dtype='object'):The MSE is 27.11\n",
      "Index(['horsepower', 'hp_squared'], dtype='object'):The MSE is 20.87\n",
      "Index(['horsepower', 'hp_squared', 'hp_cubed'], dtype='object'):The MSE is 20.9\n"
     ]
    }
   ],
   "source": [
    "for randomstate in [1,5,1234]:\n",
    "    print('\\nrandom_seed=%d' % randomstate)\n",
    "    for features in [1,2,3]:\n",
    "        X=X_poly.iloc[:,:features]\n",
    "        print(X.columns,end=':')\n",
    "        y=Auto.mpg\n",
    "        X_train,X_test,y_train,y_test=train_test_split(X,y,test_size=0.5,random_state=randomstate)\n",
    "        lr_model=LinearRegression()\n",
    "        lr_model.fit(X_train,y_train)\n",
    "        y_pred=lr_model.predict(X_test)\n",
    "        print('The MSE is {:.4}'.format(metrics.mean_squared_error(y_test,y_pred)))"
   ]
  },
  {
   "cell_type": "code",
   "execution_count": 11,
   "metadata": {},
   "outputs": [
    {
     "name": "stdout",
     "output_type": "stream",
     "text": [
      "10-Fold CV MSE = 21.3366\n"
     ]
    },
    {
     "name": "stderr",
     "output_type": "stream",
     "text": [
      "C:\\ProgramData\\Anaconda3\\lib\\site-packages\\sklearn\\model_selection\\_split.py:296: FutureWarning: Setting a random_state has no effect since shuffle is False. This will raise an error in 0.24. You should leave random_state to its default (None), or set shuffle=True.\n",
      "  FutureWarning\n"
     ]
    }
   ],
   "source": [
    "from sklearn.model_selection import KFold, cross_val_score\n",
    "\n",
    "#X_poly : Feature Matrix, y=response vecctor\n",
    "kf=KFold(n_splits=10,shuffle=False,random_state=1)\n",
    "MSE_s=list()\n",
    "\n",
    "for train, test in kf.split(X_poly):\n",
    "    X_train = X_poly.iloc[train, :]\n",
    "    y_train = Auto.mpg.iloc[train]\n",
    "    X_test = X_poly.iloc[test, :]\n",
    "    y_test = Auto.mpg.iloc[test]\n",
    "    \n",
    "    lr_model = LinearRegression()\n",
    "    lr_model.fit(X_train, y_train)\n",
    "    y_pred = lr_model.predict(X_test)\n",
    "    MSE_s.append( metrics.mean_squared_error(y_test, y_pred))\n",
    "    \n",
    "print(\"10-Fold CV MSE = %.4f\" % (np.array(MSE_s).mean()))"
   ]
  },
  {
   "cell_type": "code",
   "execution_count": 12,
   "metadata": {},
   "outputs": [
    {
     "name": "stdout",
     "output_type": "stream",
     "text": [
      "[12.56821522 16.72742348 19.97659557 21.51654569 13.88689296 10.32004012\n",
      " 11.81509234 20.58935444 49.97092377 35.99497823]\n",
      "10-Fold CV MSE = 21.3366\n"
     ]
    }
   ],
   "source": [
    "lm=LinearRegression()\n",
    "scores=cross_val_score(lm,X_poly,y,cv=10,scoring='neg_mean_squared_error')\n",
    "mse_scores=-scores\n",
    "print(mse_scores)\n",
    "print('10-Fold CV MSE = %.4f'%(np.array(mse_scores).mean()))"
   ]
  },
  {
   "cell_type": "code",
   "execution_count": 13,
   "metadata": {},
   "outputs": [
    {
     "name": "stdout",
     "output_type": "stream",
     "text": [
      "[18.55672195 16.48831466 22.37206719 24.74472029 12.07171089 33.78773319\n",
      " 11.90700848 23.96762937 16.03916995 11.61739629]\n",
      "10-Fold CV MSE = 19.1552\n"
     ]
    }
   ],
   "source": [
    "# If you need to shuffle : X와 y의 random sample을 취함 (all samples, no replacement). random_states have to be the same\n",
    "scores = cross_val_score(lm, X_poly.sample(frac=1, random_state=17), \n",
    "                         y.sample(frac=1, random_state=17), cv=10, scoring='neg_mean_squared_error')\n",
    "mse_scores = -scores\n",
    "print(mse_scores)\n",
    "print(\"10-Fold CV MSE = %.4f\" % (np.array(mse_scores).mean()))"
   ]
  },
  {
   "cell_type": "code",
   "execution_count": 14,
   "metadata": {},
   "outputs": [
    {
     "data": {
      "text/html": [
       "<div>\n",
       "<style scoped>\n",
       "    .dataframe tbody tr th:only-of-type {\n",
       "        vertical-align: middle;\n",
       "    }\n",
       "\n",
       "    .dataframe tbody tr th {\n",
       "        vertical-align: top;\n",
       "    }\n",
       "\n",
       "    .dataframe thead th {\n",
       "        text-align: right;\n",
       "    }\n",
       "</style>\n",
       "<table border=\"1\" class=\"dataframe\">\n",
       "  <thead>\n",
       "    <tr style=\"text-align: right;\">\n",
       "      <th></th>\n",
       "      <th>mpg</th>\n",
       "      <th>cylinders</th>\n",
       "      <th>displacement</th>\n",
       "      <th>horsepower</th>\n",
       "      <th>weight</th>\n",
       "      <th>acceleration</th>\n",
       "      <th>year</th>\n",
       "      <th>origin</th>\n",
       "      <th>name</th>\n",
       "    </tr>\n",
       "  </thead>\n",
       "  <tbody>\n",
       "    <tr>\n",
       "      <th>1</th>\n",
       "      <td>18.0</td>\n",
       "      <td>8</td>\n",
       "      <td>307.0</td>\n",
       "      <td>130.0</td>\n",
       "      <td>3504</td>\n",
       "      <td>12.0</td>\n",
       "      <td>70</td>\n",
       "      <td>1</td>\n",
       "      <td>chevrolet chevelle malibu</td>\n",
       "    </tr>\n",
       "    <tr>\n",
       "      <th>2</th>\n",
       "      <td>15.0</td>\n",
       "      <td>8</td>\n",
       "      <td>350.0</td>\n",
       "      <td>165.0</td>\n",
       "      <td>3693</td>\n",
       "      <td>11.5</td>\n",
       "      <td>70</td>\n",
       "      <td>1</td>\n",
       "      <td>buick skylark 320</td>\n",
       "    </tr>\n",
       "    <tr>\n",
       "      <th>3</th>\n",
       "      <td>18.0</td>\n",
       "      <td>8</td>\n",
       "      <td>318.0</td>\n",
       "      <td>150.0</td>\n",
       "      <td>3436</td>\n",
       "      <td>11.0</td>\n",
       "      <td>70</td>\n",
       "      <td>1</td>\n",
       "      <td>plymouth satellite</td>\n",
       "    </tr>\n",
       "    <tr>\n",
       "      <th>4</th>\n",
       "      <td>16.0</td>\n",
       "      <td>8</td>\n",
       "      <td>304.0</td>\n",
       "      <td>150.0</td>\n",
       "      <td>3433</td>\n",
       "      <td>12.0</td>\n",
       "      <td>70</td>\n",
       "      <td>1</td>\n",
       "      <td>amc rebel sst</td>\n",
       "    </tr>\n",
       "    <tr>\n",
       "      <th>5</th>\n",
       "      <td>17.0</td>\n",
       "      <td>8</td>\n",
       "      <td>302.0</td>\n",
       "      <td>140.0</td>\n",
       "      <td>3449</td>\n",
       "      <td>10.5</td>\n",
       "      <td>70</td>\n",
       "      <td>1</td>\n",
       "      <td>ford torino</td>\n",
       "    </tr>\n",
       "  </tbody>\n",
       "</table>\n",
       "</div>"
      ],
      "text/plain": [
       "    mpg  cylinders  displacement  horsepower  weight  acceleration  year  \\\n",
       "1  18.0          8         307.0       130.0    3504          12.0    70   \n",
       "2  15.0          8         350.0       165.0    3693          11.5    70   \n",
       "3  18.0          8         318.0       150.0    3436          11.0    70   \n",
       "4  16.0          8         304.0       150.0    3433          12.0    70   \n",
       "5  17.0          8         302.0       140.0    3449          10.5    70   \n",
       "\n",
       "   origin                       name  \n",
       "1       1  chevrolet chevelle malibu  \n",
       "2       1          buick skylark 320  \n",
       "3       1         plymouth satellite  \n",
       "4       1              amc rebel sst  \n",
       "5       1                ford torino  "
      ]
     },
     "execution_count": 14,
     "metadata": {},
     "output_type": "execute_result"
    }
   ],
   "source": [
    "Auto.head()"
   ]
  },
  {
   "cell_type": "code",
   "execution_count": 15,
   "metadata": {},
   "outputs": [
    {
     "data": {
      "text/plain": [
       "<seaborn.axisgrid.PairGrid at 0x1b861495888>"
      ]
     },
     "execution_count": 15,
     "metadata": {},
     "output_type": "execute_result"
    },
    {
     "data": {
      "image/png": "[encoded data removed]",
      "text/plain": [
       "<Figure size 900x180 with 5 Axes>"
      ]
     },
     "metadata": {
      "needs_background": "light"
     },
     "output_type": "display_data"
    }
   ],
   "source": [
    "sns.pairplot(data=Auto,\n",
    "            x_vars=['cylinders','displacement','horsepower',\n",
    "                   'weight','acceleration'],\n",
    "            y_vars=['mpg'])"
   ]
  },
  {
   "cell_type": "code",
   "execution_count": 16,
   "metadata": {},
   "outputs": [
    {
     "name": "stdout",
     "output_type": "stream",
     "text": [
      "[28.80347628205128, 22.611229807692308, 22.60933126780626, 21.470917708333335, 20.811982615384615, 20.367053027065527, 20.128171755625328, 20.041370252403844, 19.819893819246595, 19.394037391025638, 19.665185473617292, 19.563558159722223, 19.534176505841298, 19.876876403061225, 19.782276683760685, 19.66165796023638, 19.750322194126518, 19.972799835786642, 20.137255788763408, 20.309922937499998, 20.233491753881044, 20.18286477670057, 20.24482632203965, 20.144384929220085, 20.172909699487178, 20.189357255158548, 20.29064475836235, 20.211118291306907, 20.13695511143633, 20.159061073361823, 20.039118865898235, 20.01849016363682, 19.973645135504224, 19.9423782971786, 19.900149684981688, 19.797433732490504, 19.78192594397932, 19.72486784927907, 19.761354710126604, 19.704481494391025]\n",
      "\n",
      "min error K = 10\n"
     ]
    },
    {
     "data": {
      "image/png": "[encoded data removed]",
      "text/plain": [
       "<Figure size 432x288 with 1 Axes>"
      ]
     },
     "metadata": {
      "needs_background": "light"
     },
     "output_type": "display_data"
    }
   ],
   "source": [
    "from sklearn.neighbors import KNeighborsRegressor\n",
    "scores=[]\n",
    "X=Auto.loc[:,'cylinders':'acceleration']\n",
    "y=Auto.mpg\n",
    "for k in range(1,41):\n",
    "    knn=KNeighborsRegressor(n_neighbors=k)\n",
    "    mse_s=-cross_val_score(knn,X,y,cv=10,scoring='neg_mean_squared_error')\n",
    "    scores.append(mse_s.mean())\n",
    "    \n",
    "print(scores)\n",
    "\n",
    "plt.plot(range(1,41),scores)\n",
    "print('\\nmin error K = %d' % (np.argmin(scores)+1))\n",
    "# K=10일 때가 MSE 가장 작으므로 K=10으로 parameter 정하는 것이 타당"
   ]
  },
  {
   "cell_type": "code",
   "execution_count": 17,
   "metadata": {},
   "outputs": [
    {
     "data": {
      "text/plain": [
       "0.7408466367913625"
      ]
     },
     "execution_count": 17,
     "metadata": {},
     "output_type": "execute_result"
    }
   ],
   "source": [
    "Caravan=pd.read_csv('C:/Users/Hyeondo/OneDrive - 연세대학교 (Yonsei University)/data/data_1/Caravan.csv',\n",
    "                   index_col=0)\n",
    "Caravan=pd.get_dummies(Caravan,drop_first=True)\n",
    "\n",
    "X=Caravan.drop(['Purchase_Yes'],axis=1)\n",
    "y=Caravan.Purchase_Yes\n",
    "\n",
    "from sklearn.linear_model import LogisticRegression\n",
    "log_reg=LogisticRegression(solver='newton-cg')\n",
    "cross_val_score(log_reg,X,y,cv=7,scoring='roc_auc').mean()"
   ]
  },
  {
   "cell_type": "code",
   "execution_count": 19,
   "metadata": {},
   "outputs": [
    {
     "name": "stdout",
     "output_type": "stream",
     "text": [
      "exit 0\n"
     ]
    }
   ],
   "source": [
    "print('exit 0')"
   ]
  },
  {
   "cell_type": "code",
   "execution_count": null,
   "metadata": {},
   "outputs": [],
   "source": []
  }
 ],
 "metadata": {
  "kernelspec": {
   "display_name": "Python 3",
   "language": "python",
   "name": "python3"
  },
  "language_info": {
   "codemirror_mode": {
    "name": "ipython",
    "version": 3
   },
   "file_extension": ".py",
   "mimetype": "text/x-python",
   "name": "python",
   "nbconvert_exporter": "python",
   "pygments_lexer": "ipython3",
   "version": "3.7.6"
  }
 },
 "nbformat": 4,
 "nbformat_minor": 4
}
